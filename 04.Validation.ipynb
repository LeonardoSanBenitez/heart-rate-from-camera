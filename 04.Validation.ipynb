{
  "nbformat": 4,
  "nbformat_minor": 0,
  "metadata": {
    "colab": {
      "provenance": []
    },
    "kernelspec": {
      "name": "python3",
      "display_name": "Python 3"
    },
    "language_info": {
      "name": "python"
    }
  },
  "cells": [
    {
      "cell_type": "code",
      "execution_count": null,
      "metadata": {
        "id": "_Xbpw4Zv2ZJ2"
      },
      "outputs": [],
      "source": [
        "import pandas as pd\n",
        "from pyPPG.validation.pw_anal import PulseWaveAnal\n",
        "from datetime import datetime\n",
        "import matplotlib.pyplot as plt\n",
        "import os\n",
        "\n",
        "pwex = PulseWaveAnal()\n",
        "\n",
        "date = datetime.now()\n",
        "dname = f\"{date.year}_{date.month}_{date.day}_{date.hour}_{date.minute}\"\n",
        "\n",
        "file_path = \"data_predicted.csv\"\n",
        "data = pd.read_csv(file_path)\n",
        "data = data[['HR', 'HR_predicted']].dropna()\n",
        "\n",
        "# Comparing HR and HR_predicted (scatter plot)\n",
        "plt.figure(figsize=(8, 6))\n",
        "plt.scatter(data['HR'], data['HR_predicted'], alpha=0.7, label=\"Predicted vs Measured\")\n",
        "plt.plot([data['HR'].min(), data['HR'].max()],\n",
        "         [data['HR'].min(), data['HR'].max()],\n",
        "         color='red', linestyle='--', label=\"Ideal Fit\")\n",
        "plt.xlabel(\"HR (Measured)\")\n",
        "plt.ylabel(\"HR (Predicted)\")\n",
        "plt.title(\"HR Validation\")\n",
        "plt.legend()\n",
        "plt.grid(True)\n",
        "\n",
        "# Saving\n",
        "os.makedirs(f\"results/{dname}\", exist_ok=True)\n",
        "plt.savefig(f\"results/{dname}/hr_validation.png\")\n",
        "plt.show()\n",
        "\n",
        "# Calculating bias\n",
        "difference = data['HR'] - data['HR_predicted']\n",
        "mean_diff = difference.mean()\n",
        "std_diff = difference.std()\n",
        "\n",
        "print(f\"Mean difference (bias): {mean_diff}\")\n",
        "print(f\"difference standard deviation: {std_diff}\")\n",
        "\n",
        "# Bland-Altman plot\n",
        "plt.figure(figsize=(8, 6))\n",
        "mean_hr = (data['HR'] + data['HR_predicted']) / 2\n",
        "plt.scatter(mean_hr, difference, alpha=0.7)\n",
        "plt.axhline(mean_diff, color='red', linestyle='--', label=\"Mean Difference\")\n",
        "plt.axhline(mean_diff + 1.96 * std_diff, color='green', linestyle='--', label=\"Upper 95% Limit\")\n",
        "plt.axhline(mean_diff - 1.96 * std_diff, color='blue', linestyle='--', label=\"Lower 95% Limit\")\n",
        "plt.xlabel(\"Mean HR (Measured + Predicted) / 2\")\n",
        "plt.ylabel(\"Difference (Measured - Predicted)\")\n",
        "plt.title(\"Bland-Altman Analysis\")\n",
        "plt.legend()\n",
        "plt.grid(True)\n",
        "\n",
        "# Saving\n",
        "plt.savefig(f\"results/{dname}/bland_altman.png\")\n",
        "plt.show()"
      ]
    }
  ]
}