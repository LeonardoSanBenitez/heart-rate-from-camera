{
  "nbformat": 4,
  "nbformat_minor": 0,
  "metadata": {
    "colab": {
      "provenance": []
    },
    "kernelspec": {
      "name": "python3",
      "display_name": "Python 3"
    },
    "language_info": {
      "name": "python"
    }
  },
  "cells": [
    {
      "cell_type": "code",
      "execution_count": null,
      "metadata": {
        "id": "90j7xUEb-fft"
      },
      "outputs": [],
      "source": [
        "import os\n",
        "import numpy as np\n",
        "import matplotlib.pyplot as plt\n",
        "from pyPPG import Fiducials\n",
        "from pyPPG.datahandling import load_data, plot_fiducials\n",
        "\n",
        "#Specifing the directory containing .dat files\n",
        "data_dir = \"ecg\"\n",
        "\n",
        "#Listing all .dat files in the directory\n",
        "data_files = [f for f in os.listdir(data_dir) if f.endswith('.dat')]\n",
        "if not data_files:\n",
        "    raise FileNotFoundError(\"No .dat files found in the specified directory.\")\n",
        "\n",
        "#Selecting the first .dat file\n",
        "first_file = data_files[0]\n",
        "record_name = os.path.splitext(first_file)[0]\n",
        "\n",
        "#Loading the signal using pyPPG's load_data function\n",
        "record_path = os.path.join(data_dir, record_name)\n",
        "ecg_signal, fs = load_data(record_path)\n",
        "\n",
        "#Checking the signal shape\n",
        "print(f\"Loaded signal with {len(ecg_signal)} samples and sampling frequency {fs} Hz.\")\n",
        "\n",
        "#Detecting fiducial points using pyPPG Fiducials\n",
        "fiducials = Fiducials(fs=fs)\n",
        "detected_points = fiducials.detect(ecg_signal)\n",
        "\n",
        "#Separating systolic peaks (SP) and dicrotic notches (DN)\n",
        "points_sp = detected_points[\"sp\"]\n",
        "points_dn = detected_points[\"dn\"]\n",
        "\n",
        "#Plotting the ECG signal with detected fiducial points\n",
        "plot_fiducials(ecg_signal, points_sp, points_dn, title=\"ECG with Fiducial Points\")\n",
        "\n",
        "np.savetxt(os.path.join(data_dir, f\"{record_name}_sp.csv\"), points_sp, delimiter=\",\")\n",
        "np.savetxt(os.path.join(data_dir, f\"{record_name}_dn.csv\"), points_dn, delimiter=\",\")\n",
        "\n",
        "print(f\"Fiducial points saved for {record_name}.\")"
      ]
    }
  ]
}